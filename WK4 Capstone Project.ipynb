{
 "cells": [
  {
   "cell_type": "markdown",
   "metadata": {},
   "source": [
    "# Where is a right place to move in Toronto?"
   ]
  },
  {
   "cell_type": "markdown",
   "metadata": {},
   "source": [
    "## 1\tIntroduction"
   ]
  },
  {
   "cell_type": "markdown",
   "metadata": {},
   "source": [
    "### 1.1\tBackground"
   ]
  },
  {
   "cell_type": "markdown",
   "metadata": {},
   "source": [
    "How many times have you moved in your life? I moved six times in Korea and one more time to Canada in 2009. Meanwhile, my children have been grown and they are staying and working at Toronto area.\n",
    "They are spending over 2.5 hours for commutation and I spend about an hour.\n",
    "As you know, moving is very hard for all family to be satisfied. I like current place, but they asked me to considering move to Toronto. Hence, I am trying to find a right place of Toronto by using my all analyzing skills and tools I have learned through this course."
   ]
  },
  {
   "cell_type": "markdown",
   "metadata": {},
   "source": [
    "### 1.2\tThe factor of consideration"
   ]
  },
  {
   "cell_type": "markdown",
   "metadata": {},
   "source": [
    "I am going to consider the place as an order of priority below.\n",
    "\n",
    "•\tSafety\n",
    "\n",
    "•\tNeighborhood\n",
    "\n",
    "•\tHousing price\n",
    "\n",
    "•\tTime of commutation"
   ]
  },
  {
   "cell_type": "markdown",
   "metadata": {},
   "source": [
    "### 1.3\tExpected Problems"
   ]
  },
  {
   "cell_type": "markdown",
   "metadata": {},
   "source": [
    "In fact, generally I know what to do before buying a house, but mostly I relied on the realtors’ advice and it was not able for me to get the detail data of safety from them. Therefore, I am going to analyze the safety, neighborhood and the market trend of housing price in Toronto as well. However, I am not sure, where I can get relevant raw data for each section and how I can manipulate the data to get the result and use the right tools I learned for plotting location and charts. These things will be my challenge."
   ]
  },
  {
   "cell_type": "markdown",
   "metadata": {},
   "source": [
    "## 2\tData Description"
   ]
  },
  {
   "cell_type": "markdown",
   "metadata": {},
   "source": [
    "### 2.1\tData Sources"
   ]
  },
  {
   "cell_type": "markdown",
   "metadata": {},
   "source": [
    "In order to research safety and neighborhood, the open data of Crime Rate of Toronto and to get the housing price, Housing Market Trend will be collected and manipulated. The data file will be csv format for numbers and charts and geojson format for presenting locations."
   ]
  },
  {
   "cell_type": "markdown",
   "metadata": {},
   "source": [
    "## 2.2\tData cleansing"
   ]
  },
  {
   "cell_type": "markdown",
   "metadata": {},
   "source": [
    "The data will be grouped and cleansed by Police Boundaries such as D11, D51 in Toronto. The year of data will be used for the last two years but it will be depended how big the dataset is. If possible, full dataset will be applied in case of Crime Rate. The dataset will be separated by the type of Crimes such as Assault, Break and Enter, Auto Theft and Robbery etc. for presenting charts and locations."
   ]
  },
  {
   "cell_type": "markdown",
   "metadata": {},
   "source": [
    "### 2.3\tData Table"
   ]
  },
  {
   "cell_type": "markdown",
   "metadata": {},
   "source": [
    "The dataset will be reconfigured as below, and the data will be grouped by Division. After then the location data will also be merged into this table."
   ]
  },
  {
   "cell_type": "markdown",
   "metadata": {},
   "source": [
    "Table1. Sample Data Table\n",
    "\n",
    "\tDivision\tHood_ID\tNeighbourhood\tAssault_2018\tAssault_2017\n",
    "    \n",
    "1\tD53\t97\tYonge-St.Clair\t61\t46\n",
    "\n",
    "2\tD31\t27\tYork University Heights\t138\t120\n",
    "\n",
    "3\tD32\t38\tLansing-Westgate\t197\t226\n",
    "\n",
    "4\tD32\t31\tYorkdale-Glen Park\t127\t124\n",
    "\n",
    "5\tD22\t16\tStonegate-Queensway\t128\t112\n",
    "\n",
    "6\tD42\t118\tTam O'Shanter-Sullivan\t56\t57"
   ]
  },
  {
   "cell_type": "markdown",
   "metadata": {},
   "source": [
    "Table2. Merged Data Table\n",
    "\n",
    "\tDivision\tNeighbourhood\tAssault_2018\tAssault_2017\tLat\tLong\n",
    "    \n",
    "1\tD53\tYonge-St.Clair\t61\t46\t43.7219\t-79.4016\n",
    "\n",
    "2\tD31\tYork University Heights\t138\t120\t43.7500\t-79.5023\n",
    "\n",
    "3\tD32\tLansing-Westgate, Yorkdale-Glen Park\t324\t350\t43.7701\t-79.4131\n",
    "\n",
    "4\tD22\tStonegate-Queensway\t128\t112\t43.6150\t-79.4942\n",
    "\n",
    "5\tD42\tTam O'Shanter-Sullivan\t56\t57\t43.8199\t-79.3130"
   ]
  },
  {
   "cell_type": "code",
   "execution_count": null,
   "metadata": {},
   "outputs": [],
   "source": []
  }
 ],
 "metadata": {
  "kernelspec": {
   "display_name": "Python 3",
   "language": "python",
   "name": "python3"
  },
  "language_info": {
   "codemirror_mode": {
    "name": "ipython",
    "version": 3
   },
   "file_extension": ".py",
   "mimetype": "text/x-python",
   "name": "python",
   "nbconvert_exporter": "python",
   "pygments_lexer": "ipython3",
   "version": "3.7.4"
  }
 },
 "nbformat": 4,
 "nbformat_minor": 2
}
